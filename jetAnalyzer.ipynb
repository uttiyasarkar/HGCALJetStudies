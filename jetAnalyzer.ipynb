{
 "cells": [
  {
   "cell_type": "code",
   "execution_count": 1,
   "metadata": {},
   "outputs": [],
   "source": [
    "#######Life would have been simple with fastjet package, #######\n",
    "#######but it cannot cluster pT, eta, phi objects yet :( #######\n",
    "#import fastjet\n",
    "#jetdef = fastjet.JetDefinition(fastjet.antikt_algorithm, 0.4)\n",
    "from pyjet import cluster,DTYPE_EP,DTYPE_PTEPM\n",
    "import numba as nb\n",
    "from itertools import chain\n",
    "import scipy as sp"
   ]
  },
  {
   "cell_type": "code",
   "execution_count": 2,
   "metadata": {},
   "outputs": [],
   "source": [
    "import sys\n",
    "import IPython\n",
    "#import ROOT\n",
    "import awkward as ak\n",
    "import vector\n",
    "vector.register_awkward()\n",
    "import os\n",
    "import glob\n",
    "import matplotlib.pyplot as plt\n",
    "import pandas as pd\n",
    "#import root_pandas as rpd\n",
    "import uproot3\n",
    "import uproot\n",
    "import uproot4\n",
    "import numpy as np\n",
    "import math\n",
    "#timers\n",
    "import time\n",
    "#if args.time:\n",
    "#    start = time.clock()\n",
    "from matplotlib.ticker import (AutoMinorLocator, MultipleLocator)"
   ]
  },
  {
   "cell_type": "code",
   "execution_count": 3,
   "metadata": {},
   "outputs": [],
   "source": [
    "#tree = uproot.open(\"root://polgrid4.in2p3.fr//dpm/in2p3.fr/home/cms/trivcat/store/user/usarkar/VBF_HToInvisible_M125_14TeV_powheg_pythia8_TuneCP5/crab_Multialgo_HGCAL/210930_084934/0000/ntuple_1.root\",xrootdsource=dict(chunkbytes=1024**3, limitbytes=1024**3))[\"FloatingpointThresholdDummyHistomaxGenmatchGenclustersntuple/HGCalTriggerNtuple\"]\n",
    "#still opening with uproot3 for jet clustering, unable to parse the uproot4 df to pyjet...\n",
    "tree2 = uproot3.open(\"/data_CMS/cms/sarkar/ntuple.root\",xrootdsource=dict(chunkbytes=1024**3, limitbytes=1024**3))[\"FloatingpointThresholdDummyHistomaxGenmatchGenclustersntuple/HGCalTriggerNtuple\"]\n",
    "branches_cl3d = [\"event\",\"cl3d_pt\",\"cl3d_energy\",\"cl3d_eta\",\"cl3d_phi\"]\n",
    "branches_gen = [\"event\",\"gen_eta\",\"gen_phi\",\"gen_pt\",\"gen_pdgid\",\"gen_energy\",\"gen_status\",\"genjet_eta\",\"genjet_phi\",\"genjet_pt\",\"genjet_energy\"]\n",
    "full = [\"gen_eta\",\"gen_phi\",\"gen_pt\",\"gen_pdgid\",\"gen_energy\",\"gen_status\",\"genjet_eta\",\"genjet_phi\",\"genjet_pt\",\"genjet_energy\",\"cl3d_pt\",\"cl3d_energy\",\"cl3d_eta\",\"cl3d_phi\"]"
   ]
  },
  {
   "cell_type": "code",
   "execution_count": 4,
   "metadata": {},
   "outputs": [],
   "source": [
    "fulldf = tree2.pandas.df(full,flatten=False)\n",
    "df = tree2.pandas.df(branches_cl3d,entrystart=0,entrystop=tree2.numentries)\n",
    "fulldf[\"ak4jet_eta\"] = fulldf[\"cl3d_eta\"]\n",
    "fulldf[\"ak4jet_phi\"] = fulldf[\"cl3d_phi\"]\n",
    "fulldf[\"ak4jet_pt\"] = fulldf[\"cl3d_pt\"]\n",
    "fulldf[\"ak4jet_constituents\"] = fulldf[\"cl3d_energy\"]"
   ]
  },
  {
   "cell_type": "code",
   "execution_count": 5,
   "metadata": {},
   "outputs": [],
   "source": [
    "########computationally faster if lambda function is used here#########\n",
    "for i_event in range(tree2.numentries):\n",
    "    cl3d = df.loc[i_event,['cl3d_pt','cl3d_eta','cl3d_phi','cl3d_energy']]\n",
    "    cl3d.columns=[\"pT\",\"eta\",\"phi\",\"energy\"]\n",
    "    cl3d = cl3d.assign(mass=0)\n",
    "    #go dataframe to np array, formatted for input into fastjet    \n",
    "    cl3dVectors = np.array(cl3d[[\"pT\",\"eta\",\"phi\",\"energy\"]].to_records(index=False).astype([(u'pT', '<f8'), (u'eta', '<f8'), (u'phi', '<f8'), (u'mass', '<f8')]) )    \n",
    "    clusterVals = cluster(cl3dVectors,R=0.4,algo=\"antikt\")\n",
    "    _jets = clusterVals.inclusive_jets() \n",
    "    ak4jet_eta = []\n",
    "    ak4jet_phi = []\n",
    "    ak4jet_pt = []\n",
    "    ak4jetmatched_pt = []\n",
    "    constituent = []\n",
    "    for j,jet in enumerate(_jets):\n",
    "        ak4jet_pt.append(jet.pt)\n",
    "        ak4jet_eta.append(jet.eta)\n",
    "        ak4jet_phi.append(jet.phi)\n",
    "        constituent.append((len(_jets[j].constituents_array())))\n",
    "        \n",
    "    fulldf['ak4jet_eta'][i_event] = ak4jet_eta\n",
    "    fulldf['ak4jet_phi'][i_event] = ak4jet_phi\n",
    "    fulldf['ak4jet_pt'][i_event] = ak4jet_pt\n",
    "    fulldf['ak4jet_constituents'][i_event] = constituent"
   ]
  },
  {
   "cell_type": "code",
   "execution_count": 6,
   "metadata": {},
   "outputs": [],
   "source": [
    "#making an awkward array of ak4jet candidates\n",
    "list_ak4jet_pt = fulldf[\"ak4jet_pt\"].to_numpy()\n",
    "list_ak4jet_eta = fulldf[\"ak4jet_eta\"].to_numpy()\n",
    "list_ak4jet_phi = fulldf[\"ak4jet_phi\"].to_numpy()\n",
    "\n",
    "ak4jet_pt = ak.Array(list_ak4jet_pt)\n",
    "ak4jet_eta = ak.Array(list_ak4jet_eta)\n",
    "ak4jet_phi = ak.Array(list_ak4jet_phi)\n",
    "ak4jet = ak.zip({\"pt\":ak4jet_pt,\"eta\":ak4jet_eta,\"phi\":ak4jet_phi})\n",
    "ak4jet = ak4jet[(abs(ak4jet.eta)>1.7) & (abs(ak4jet.eta)<2.8) & (ak4jet.pt>5)]"
   ]
  },
  {
   "cell_type": "code",
   "execution_count": 7,
   "metadata": {},
   "outputs": [],
   "source": [
    "#opening the rest of the objects (gen_particles, gen_jets) using standard uproot4\n",
    "tree = uproot.open(\"ntuple.root\",xrootdsource=dict(chunkbytes=1024**3, limitbytes=1024**3))[\"FloatingpointThresholdDummyHistomaxGenmatchGenclustersntuple/HGCalTriggerNtuple\"]"
   ]
  },
  {
   "cell_type": "code",
   "execution_count": 8,
   "metadata": {},
   "outputs": [],
   "source": [
    "df_cl = tree.arrays(branches_cl3d,library='pd')   "
   ]
  },
  {
   "cell_type": "code",
   "execution_count": 9,
   "metadata": {},
   "outputs": [],
   "source": [
    "######much easier but type conflict, needed to be fixed later#################\n",
    "#df_gen = tree.arrays([\"gen_pt\", \"gen_eta\", \"gen_phi\",\"gen_energy\",\"gen_pdgid\",\"gen_status\"], how=\"zip\",library='ak', entry_stop=1)\n",
    "#df_genjet = tree.arrays([\"genjet_pt\", \"genjet_eta\", \"genjet_phi\",\"genjet_energy\"], how=\"zip\",library='ak', entry_stop=1)\n",
    "\n",
    "#print(df_gen.type)\n",
    "#print(df_genjet.type)"
   ]
  },
  {
   "cell_type": "code",
   "execution_count": 10,
   "metadata": {},
   "outputs": [],
   "source": [
    "gen_pt = tree[\"gen_pt\"].array(library =\"ak\")\n",
    "gen_eta = tree[\"gen_eta\"].array(library =\"ak\")\n",
    "gen_phi = tree[\"gen_phi\"].array(library =\"ak\")\n",
    "gen_energy = tree[\"gen_energy\"].array(library =\"ak\")\n",
    "gen_pdgid = tree[\"gen_pdgid\"].array(library =\"ak\")\n",
    "gen_status = tree[\"gen_status\"].array(library =\"ak\")\n",
    "genzip = ak.zip({\"pt\":gen_pt,\"eta\":gen_eta,\"phi\":gen_phi,\"energy\":gen_energy,\"pdgid\":gen_pdgid,\"status\":gen_status})\n",
    "gen = genzip[(genzip.status==23) & (abs(genzip.pdgid<6)) & (genzip.pt>40) & (abs(genzip.eta)>1.7) & (abs(genzip.eta)<2.8)]\n",
    "\n",
    "#gen = genzip\n",
    "#print(gen)"
   ]
  },
  {
   "cell_type": "code",
   "execution_count": 11,
   "metadata": {},
   "outputs": [],
   "source": [
    "genjet_pt = tree[\"genjet_pt\"].array(library =\"ak\")\n",
    "genjet_eta = tree[\"genjet_eta\"].array(library =\"ak\")\n",
    "genjet_phi = tree[\"genjet_phi\"].array(library =\"ak\")\n",
    "genjet_energy = tree[\"genjet_energy\"].array(library =\"ak\")\n",
    "genjetzip = ak.zip({\"pt\":genjet_pt,\"eta\":genjet_eta,\"phi\":genjet_phi,\"energy\":genjet_energy})\n",
    "genjet = genjetzip\n",
    "genjet = genjetzip[(abs(genjetzip.eta)>1.7) & (genjetzip.pt>10) & (abs(genjetzip.eta)<2.8)]\n",
    "#print(genjet)"
   ]
  },
  {
   "cell_type": "code",
   "execution_count": 12,
   "metadata": {},
   "outputs": [
    {
     "data": {
      "text/plain": [
       "(<MomentumArray4D [[], [], [], [], ... [], [], []] type='6120 * var * Momentum4D[...'>,\n",
       " <MomentumArray3D [[], [], [], [], ... [], [], []] type='6120 * var * Momentum3D[...'>)"
      ]
     },
     "execution_count": 12,
     "metadata": {},
     "output_type": "execute_result"
    }
   ],
   "source": [
    "##making same types for deltaR calculation, followed from Jim Perversky tutorial\n",
    "\n",
    "genjetmain = ak.with_name(genjet, \"Momentum3D\")\n",
    "#print(genjet.type)\n",
    "\n",
    "genmain = ak.with_name(gen, \"Momentum4D\")\n",
    "#gen\n",
    "\n",
    "\n",
    "gen_genjet = ak.cartesian({\"gen\": genmain, \"genjet\": genjetmain})\n",
    "gen, genjet = ak.unzip(gen_genjet)\n",
    "\n",
    "gen,genjet"
   ]
  },
  {
   "cell_type": "code",
   "execution_count": 13,
   "metadata": {},
   "outputs": [
    {
     "data": {
      "image/png": "[encoded data removed]",
      "text/plain": [
       "<Figure size 432x288 with 1 Axes>"
      ]
     },
     "metadata": {
      "needs_background": "light"
     },
     "output_type": "display_data"
    }
   ],
   "source": [
    "##DeltaR plot between parton-gen and genjet\n",
    "dRmatched = ak.flatten(gen.deltaR(genjet), axis=None)\n",
    "plt.hist(dRmatched,histtype='step', color='red',bins=800)\n",
    "plt.grid(True)\n",
    "plt.xlim([0, 10])\n",
    "plt.show()"
   ]
  },
  {
   "cell_type": "code",
   "execution_count": 14,
   "metadata": {},
   "outputs": [
    {
     "data": {
      "image/png": "[encoded data removed]",
      "text/plain": [
       "<Figure size 432x288 with 1 Axes>"
      ]
     },
     "metadata": {
      "needs_background": "light"
     },
     "output_type": "display_data"
    }
   ],
   "source": [
    "##minDeltaR plot between parton-gen and genjet\n",
    "mindRgengenjet = ak.flatten(ak.min(gen.deltaR(genjet),axis = -1), axis = None)\n",
    "plt.hist(mindRgengenjet,histtype='step', color='red',bins=400)\n",
    "plt.grid(True)\n",
    "plt.xlim([0., 1.])\n",
    "plt.show()"
   ]
  },
  {
   "cell_type": "code",
   "execution_count": 15,
   "metadata": {},
   "outputs": [],
   "source": [
    "##pT calculation based on the DeltaR requirement\n",
    "genjetmatchedpt = ak.flatten(genjet.pt[(gen.deltaR(genjet)<0.2)], axis=None)\n",
    "genpt = ak.flatten(gen.pt, axis=None)\n",
    "genmatchedpt = ak.flatten(gen.pt[(gen.deltaR(genjet)<0.2)], axis=None)"
   ]
  },
  {
   "cell_type": "code",
   "execution_count": 16,
   "metadata": {},
   "outputs": [
    {
     "data": {
      "image/png": "[encoded data removed]",
      "text/plain": [
       "<Figure size 432x432 with 1 Axes>"
      ]
     },
     "metadata": {
      "needs_background": "light"
     },
     "output_type": "display_data"
    }
   ],
   "source": [
    "##Comparison of gen_pT, matched gen_pT and matched genjet_pT\n",
    "fig, ax = plt.subplots(figsize=(6, 6))\n",
    "ax.hist(genmatchedpt, color='blue',density=True,histtype='step',bins=80,label='reco-ak4jets')\n",
    "ax.hist(genpt, color='r',histtype='step',density=True, bins=80,label='reco-ak4jets')\n",
    "ax.hist(genjetmatchedpt, color='orange',density=True, histtype='step',bins=80,label='gen-matched genjets')\n",
    "#ax.legend('reco-ak4jet')\n",
    "ax.grid(True)\n",
    "plt.xlim([0, 400])\n",
    "#plt.yscale('log')\n",
    "plt.show()"
   ]
  },
  {
   "cell_type": "code",
   "execution_count": 17,
   "metadata": {},
   "outputs": [
    {
     "data": {
      "image/png": "[encoded data removed]",
      "text/plain": [
       "<Figure size 432x288 with 1 Axes>"
      ]
     },
     "metadata": {
      "needs_background": "light"
     },
     "output_type": "display_data"
    }
   ],
   "source": [
    "plt.hist2d(genmatchedpt,genjetmatchedpt, bins=(50, 50), cmap=plt.cm.BuPu)\n",
    "m, b = np.polyfit(genmatchedpt, genjetmatchedpt, 1)\n",
    "plt.plot(genmatchedpt, m*genmatchedpt + b)\n",
    "plt.grid(True)\n",
    "plt.xlim([0, 100])\n",
    "plt.ylim([0, 100])\n",
    "plt.show()"
   ]
  },
  {
   "cell_type": "code",
   "execution_count": 18,
   "metadata": {},
   "outputs": [
    {
     "name": "stdout",
     "output_type": "stream",
     "text": [
      "1.0193132\n",
      "0.21247627\n"
     ]
    },
    {
     "data": {
      "text/plain": [
       "(None, None)"
      ]
     },
     "execution_count": 18,
     "metadata": {},
     "output_type": "execute_result"
    },
    {
     "data": {
      "image/png": "[encoded data removed]",
      "text/plain": [
       "<Figure size 432x288 with 1 Axes>"
      ]
     },
     "metadata": {
      "needs_background": "light"
     },
     "output_type": "display_data"
    }
   ],
   "source": [
    "import scipy\n",
    "from scipy import stats\n",
    "data = genjetmatchedpt/genmatchedpt\n",
    "_, bins, _ = plt.hist(data, 100, density=1, alpha=1.0)\n",
    "mu, sigma = scipy.stats.norm.fit(data)\n",
    "\n",
    "best_fit_line = scipy.stats.norm.pdf(bins, 0.99060524, 0.055)\n",
    "plt.grid(True)\n",
    "plt.plot(bins, best_fit_line)\n",
    "\n",
    "print(mu), print(sigma)"
   ]
  },
  {
   "cell_type": "code",
   "execution_count": 19,
   "metadata": {},
   "outputs": [],
   "source": [
    "##genjet candidate selection based on the DeltaR requirement\n",
    "genjetmatchedzip = ak.Array(genjet[(gen.deltaR(genjet)<0.2)])\n",
    "genmatchedzip = ak.Array(genjet[(gen.deltaR(genjet)<0.2)])\n",
    "#print(genjetmatchedzip)"
   ]
  },
  {
   "cell_type": "code",
   "execution_count": 21,
   "metadata": {},
   "outputs": [
    {
     "name": "stdout",
     "output_type": "stream",
     "text": [
      "[[], [], [], [], [], [], [], ... eta: -2.41, phi: 1.81, energy: 753}], [], [], []]\n"
     ]
    },
    {
     "data": {
      "text/plain": [
       "(<MomentumArray3D [[], [], [], [], ... [], [], []] type='6120 * var * Momentum3D[...'>,\n",
       " <MomentumArray3D [[], [], [], [], ... [], [], []] type='6120 * var * Momentum3D[...'>)"
      ]
     },
     "execution_count": 21,
     "metadata": {},
     "output_type": "execute_result"
    }
   ],
   "source": [
    "##Similar to before, this time between matched- genjet and ak4jet \n",
    "genmatchedmain = ak.with_name(genmatchedzip, \"Momentum3D\")\n",
    "#print(genmatchedmain)\n",
    "\n",
    "genjetmatchedmain = ak.with_name(genjetmatchedzip, \"Momentum3D\")\n",
    "print(genjetmatchedmain)\n",
    "\n",
    "ak4jets = ak.with_name(ak4jet, \"Momentum3D\")\n",
    "\n",
    "genmatched_genjetmatched = ak.cartesian({\"genjets\": genmatchedmain, \"genjetmatched\": genjetmatchedmain})\n",
    "genmatched, genjetmatched999 = ak.unzip(genmatched_genjetmatched)\n",
    "\n",
    "reco_genjetmatched = ak.cartesian({\"ak4jets\": ak4jets, \"genjetmatched\": genjetmatchedmain})\n",
    "ak4jet, genjetmatched = ak.unzip(reco_genjetmatched)\n",
    "ak4jet, genjetmatched"
   ]
  },
  {
   "cell_type": "code",
   "execution_count": 22,
   "metadata": {},
   "outputs": [
    {
     "data": {
      "image/png": "[encoded data removed]",
      "text/plain": [
       "<Figure size 432x288 with 1 Axes>"
      ]
     },
     "metadata": {
      "needs_background": "light"
     },
     "output_type": "display_data"
    }
   ],
   "source": [
    "##pT comparison between matched genjet and ak4jets\n",
    "ak4jetpt = ak.flatten(ak4jet.pt, axis=None)\n",
    "genjetpt = ak.flatten(genjetmatched.pt, axis=None)\n",
    "plt.hist(genjetpt,histtype='step', color='green',bins=200)\n",
    "plt.hist(ak4jetpt,histtype='step', color='blue',bins=200)\n",
    "plt.grid(True)\n",
    "plt.xlim([0., 200.])\n",
    "plt.show()"
   ]
  },
  {
   "cell_type": "code",
   "execution_count": 23,
   "metadata": {},
   "outputs": [
    {
     "data": {
      "image/png": "[encoded data removed]",
      "text/plain": [
       "<Figure size 432x288 with 1 Axes>"
      ]
     },
     "metadata": {
      "needs_background": "light"
     },
     "output_type": "display_data"
    },
    {
     "name": "stdout",
     "output_type": "stream",
     "text": [
      "1.3046371642900878\n",
      "1.1358706862669514\n"
     ]
    },
    {
     "data": {
      "text/plain": [
       "(None, None)"
      ]
     },
     "execution_count": 23,
     "metadata": {},
     "output_type": "execute_result"
    },
    {
     "data": {
      "image/png": "[encoded data removed]",
      "text/plain": [
       "<Figure size 432x288 with 1 Axes>"
      ]
     },
     "metadata": {
      "needs_background": "light"
     },
     "output_type": "display_data"
    }
   ],
   "source": [
    "##pT comparison between matched genjet and ak4jets after DeltaR requirement \n",
    "genjetmatchedpt2 = ak.flatten(genjetmatched.pt[(ak4jet.deltaR(genjetmatched)<0.4)], axis=None)\n",
    "ak4jetmatchedpt2 = ak.flatten(ak4jet.pt[(ak4jet.deltaR(genjetmatched)<0.4)], axis=None)\n",
    "\n",
    "plt.hist(genjetmatchedpt2,histtype='step', color='green',bins=200)\n",
    "plt.hist(ak4jetmatchedpt2,histtype='step', color='blue',bins=200)\n",
    "plt.grid(True)\n",
    "plt.xlim([0., 200.])\n",
    "plt.show()\n",
    "'''\n",
    "ptdiffmin = ak.flatten(ak.min((genjetmatched.pt-ak4jet.pt), axis=-1), axis=None)\n",
    "plt.hist(ptdiffmin,histtype='step', color='red',bins=100)\n",
    "plt.grid(True)\n",
    "plt.xlim([-200., 400.])\n",
    "plt.show()\n",
    "ptdiffmin2 = ak.to_numpy(ptdiffmin)\n",
    "'''\n",
    "\n",
    "data = genjetmatchedpt2/ak4jetmatchedpt2\n",
    "_, bins, _ = plt.hist(data, 100, density=1, alpha=1.0)\n",
    "mu, sigma = scipy.stats.norm.fit(data)\n",
    "\n",
    "best_fit_line = scipy.stats.norm.pdf(bins, 0.99, 1.0)\n",
    "plt.grid(True)\n",
    "plt.xlim([0., 3.])\n",
    "plt.plot(bins, best_fit_line)\n",
    "\n",
    "print(mu), print(sigma)"
   ]
  },
  {
   "cell_type": "code",
   "execution_count": 36,
   "metadata": {},
   "outputs": [
    {
     "data": {
      "image/png": "[encoded data removed]",
      "text/plain": [
       "<Figure size 432x288 with 1 Axes>"
      ]
     },
     "metadata": {
      "needs_background": "light"
     },
     "output_type": "display_data"
    }
   ],
   "source": [
    "##DeltaR between matched genjet and ak4jets\n",
    "deltaRjetmatched = ak.flatten((ak4jet.deltaR(genjetmatched)), axis=None)\n",
    "plt.hist(deltaRjetmatched,histtype='step', color='red',bins=500)\n",
    "plt.grid(True)\n",
    "plt.xlim([0., 10.])\n",
    "plt.show()"
   ]
  },
  {
   "cell_type": "code",
   "execution_count": 37,
   "metadata": {},
   "outputs": [
    {
     "data": {
      "image/png": "[encoded data removed]",
      "text/plain": [
       "<Figure size 432x288 with 1 Axes>"
      ]
     },
     "metadata": {
      "needs_background": "light"
     },
     "output_type": "display_data"
    }
   ],
   "source": [
    "##minDeltaR between matched genjet and ak4jets\n",
    "mindRgengenjet = ak.flatten(ak.min(ak4jet.deltaR(genjetmatched),axis = -1), axis = None)\n",
    "plt.hist(mindRgengenjet,histtype='step', color='blue',bins=500)\n",
    "plt.grid(True)\n",
    "plt.xlim([0.,3.])\n",
    "plt.show()"
   ]
  },
  {
   "cell_type": "code",
   "execution_count": 38,
   "metadata": {},
   "outputs": [],
   "source": [
    "##ak4jet candidate selection based on the DeltaR requirement\n",
    "ak4jetmatched = ak.Array(ak4jet[(ak4jet.deltaR(genjetmatched)<0.4)])\n",
    "genjetmatchedfinal = ak.Array(genjetmatched[(ak4jet.deltaR(genjetmatched)<0.4)])"
   ]
  },
  {
   "cell_type": "code",
   "execution_count": 39,
   "metadata": {},
   "outputs": [],
   "source": [
    "ak4matchedzippt = ak.flatten(ak4jetmatched.pt,axis=None)\n",
    "genjetmatchedzip2pt = ak.flatten(genjetmatchedfinal.pt,axis=None)"
   ]
  },
  {
   "cell_type": "code",
   "execution_count": 40,
   "metadata": {},
   "outputs": [
    {
     "data": {
      "image/png": "[encoded data removed]",
      "text/plain": [
       "<Figure size 432x288 with 1 Axes>"
      ]
     },
     "metadata": {
      "needs_background": "light"
     },
     "output_type": "display_data"
    }
   ],
   "source": [
    "plt.hist(genjetmatchedzip2pt,histtype='step', color='green',bins=200)\n",
    "plt.hist(ak4matchedzippt,histtype='step', color='blue',bins=200)\n",
    "plt.grid(True)\n",
    "plt.xlim([0., 200.])\n",
    "plt.show()"
   ]
  },
  {
   "cell_type": "code",
   "execution_count": 44,
   "metadata": {},
   "outputs": [
    {
     "data": {
      "image/png": "[encoded data removed]",
      "text/plain": [
       "<Figure size 432x288 with 1 Axes>"
      ]
     },
     "metadata": {
      "needs_background": "light"
     },
     "output_type": "display_data"
    }
   ],
   "source": [
    "##pT ratio of matched genjet and matched ak4jet\n",
    "l = ak4matchedzippt/genjetmatchedzip2pt\n",
    "l = ak.flatten(l, axis=None)\n",
    "plt.hist(l,histtype='step', color='red',bins=80)\n",
    "plt.grid(True)\n",
    "plt.xlim([0., 2.])\n",
    "plt.show()"
   ]
  },
  {
   "cell_type": "code",
   "execution_count": 45,
   "metadata": {},
   "outputs": [],
   "source": [
    "##Eta dependent pT correction based on regression, code adapted from Jona Motta\n",
    "from sklearn.ensemble import GradientBoostingRegressor\n",
    "from sklearn.linear_model import LinearRegression\n",
    "from sklearn.model_selection import train_test_split\n",
    "\n",
    "dfinal = ak.to_pandas(ak.Array({\"ak4jetmatched_pt\":ak4jetmatched.pt,\"ak4jetmatched_eta\":ak4jetmatched.eta,\"genjetmatched_pt\":genjetmatchedfinal.pt,\"genjetmatched_eta\":genjetmatchedfinal.eta}))\n",
    "#dfinal"
   ]
  },
  {
   "cell_type": "code",
   "execution_count": 46,
   "metadata": {},
   "outputs": [],
   "source": [
    "C1model_dict = {}       # dictionary of models from C1 calibration step\n",
    "#input_c1 = fulldf.ak4jet_eta\n",
    "ak4jetmatched_pt = ak.to_pandas(ak4jetmatched.pt)\n",
    "genjetmatched_pt = ak.to_pandas(genjetmatchedfinal.pt)\n",
    "\n",
    "ak4jetmatched_eta = ak.to_pandas(ak4jetmatched.eta)\n",
    "input_c1 = ak4jetmatched_eta\n",
    "target_c1 = ak4jetmatched_pt-genjetmatched_pt\n",
    "\n",
    "C1model_dict = LinearRegression().fit(input_c1, target_c1)\n",
    "\n",
    "#save_obj(C1model_dict, outFile_modelC1_dict)\n",
    "\n",
    "dfinal['ak4jet_c1'] = C1model_dict.predict(input_c1)\n",
    "dfinal['ak4jet_pt_c1'] = dfinal.ak4jet_c1 + dfinal.ak4jetmatched_pt\n",
    "dfinal['ak4jet_response_c1'] = dfinal.ak4jet_pt_c1 / dfinal.genjetmatched_pt\n"
   ]
  },
  {
   "cell_type": "code",
   "execution_count": 49,
   "metadata": {},
   "outputs": [
    {
     "data": {
      "image/png": "[encoded data removed]",
      "text/plain": [
       "<Figure size 432x288 with 1 Axes>"
      ]
     },
     "metadata": {
      "needs_background": "light"
     },
     "output_type": "display_data"
    }
   ],
   "source": [
    "##Response plot after the regression\n",
    "plt.hist(dfinal['ak4jet_response_c1'],histtype='step', color='red',bins=80)\n",
    "plt.grid(True)\n",
    "plt.xlim([0.,2.])\n",
    "plt.show()"
   ]
  }
 ],
 "metadata": {
  "kernelspec": {
   "display_name": "myenv",
   "language": "python",
   "name": "myenv"
  },
  "language_info": {
   "codemirror_mode": {
    "name": "ipython",
    "version": 3
   },
   "file_extension": ".py",
   "mimetype": "text/x-python",
   "name": "python",
   "nbconvert_exporter": "python",
   "pygments_lexer": "ipython3",
   "version": "3.8.12"
  }
 },
 "nbformat": 4,
 "nbformat_minor": 4
}
